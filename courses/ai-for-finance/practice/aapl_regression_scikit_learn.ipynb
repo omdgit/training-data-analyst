{
 "cells": [
  {
   "cell_type": "markdown",
   "metadata": {},
   "source": [
    "# Building a Regression Model for a Financial Dataset\n",
    "\n",
    "In this notebook, you will build a simple linear regression model to predict the closing AAPL stock price. The lab objectives are:\n",
    "* Pull data from BigQuery into a Pandas dataframe\n",
    "* Use Matplotlib to visualize data\n",
    "* Use Scikit-Learn to build a regression model"
   ]
  },
  {
   "cell_type": "code",
   "execution_count": null,
   "metadata": {},
   "outputs": [],
   "source": [
    "%%bash\n",
    "\n",
    "bq mk -d ai4f\n",
    "bq load --autodetect --source_format=CSV ai4f.AAPL10Y gs://cloud-training/ai4f/AAPL10Y.csv"
   ]
  },
  {
   "cell_type": "code",
   "execution_count": 1,
   "metadata": {},
   "outputs": [],
   "source": [
    "import pandas as pd"
   ]
  },
  {
   "cell_type": "code",
   "execution_count": 2,
   "metadata": {},
   "outputs": [],
   "source": [
    "df = pd.read_csv('../data/AAPL10Y.csv')\n",
    "df.sort_values(by=['date'], ascending=True, inplace=True)\n",
    "df['min_1_close'] = df['close'].shift(1)\n",
    "df['min_2_close'] = df['close'].shift(2)\n",
    "df['min_3_close'] = df['close'].shift(3)\n",
    "df['min_4_close'] = df['close'].shift(4)\n",
    "df['day_prev_close'] = df['min_1_close']\n",
    "df.dropna(inplace=True)"
   ]
  },
  {
   "cell_type": "code",
   "execution_count": 3,
   "metadata": {},
   "outputs": [
    {
     "data": {
      "text/html": [
       "<div>\n",
       "<style scoped>\n",
       "    .dataframe tbody tr th:only-of-type {\n",
       "        vertical-align: middle;\n",
       "    }\n",
       "\n",
       "    .dataframe tbody tr th {\n",
       "        vertical-align: top;\n",
       "    }\n",
       "\n",
       "    .dataframe thead th {\n",
       "        text-align: right;\n",
       "    }\n",
       "</style>\n",
       "<table border=\"1\" class=\"dataframe\">\n",
       "  <thead>\n",
       "    <tr style=\"text-align: right;\">\n",
       "      <th></th>\n",
       "      <th>date</th>\n",
       "      <th>close</th>\n",
       "      <th>volume</th>\n",
       "      <th>open</th>\n",
       "      <th>high</th>\n",
       "      <th>low</th>\n",
       "      <th>min_1_close</th>\n",
       "      <th>min_2_close</th>\n",
       "      <th>min_3_close</th>\n",
       "      <th>min_4_close</th>\n",
       "      <th>day_prev_close</th>\n",
       "    </tr>\n",
       "  </thead>\n",
       "  <tbody>\n",
       "    <tr>\n",
       "      <td>2512</td>\n",
       "      <td>2009/06/09</td>\n",
       "      <td>20.3886</td>\n",
       "      <td>168830811.0</td>\n",
       "      <td>20.5443</td>\n",
       "      <td>20.6514</td>\n",
       "      <td>20.0786</td>\n",
       "      <td>20.5500</td>\n",
       "      <td>20.6671</td>\n",
       "      <td>20.5343</td>\n",
       "      <td>20.1357</td>\n",
       "      <td>20.5500</td>\n",
       "    </tr>\n",
       "    <tr>\n",
       "      <td>2511</td>\n",
       "      <td>2009/06/10</td>\n",
       "      <td>20.0357</td>\n",
       "      <td>171935452.0</td>\n",
       "      <td>20.3257</td>\n",
       "      <td>20.3357</td>\n",
       "      <td>19.7571</td>\n",
       "      <td>20.3886</td>\n",
       "      <td>20.5500</td>\n",
       "      <td>20.6671</td>\n",
       "      <td>20.5343</td>\n",
       "      <td>20.3886</td>\n",
       "    </tr>\n",
       "    <tr>\n",
       "      <td>2510</td>\n",
       "      <td>2009/06/11</td>\n",
       "      <td>19.9929</td>\n",
       "      <td>131030729.0</td>\n",
       "      <td>19.9357</td>\n",
       "      <td>20.2229</td>\n",
       "      <td>19.7929</td>\n",
       "      <td>20.0357</td>\n",
       "      <td>20.3886</td>\n",
       "      <td>20.5500</td>\n",
       "      <td>20.6671</td>\n",
       "      <td>20.0357</td>\n",
       "    </tr>\n",
       "    <tr>\n",
       "      <td>2509</td>\n",
       "      <td>2009/06/12</td>\n",
       "      <td>19.5671</td>\n",
       "      <td>140437822.0</td>\n",
       "      <td>19.8300</td>\n",
       "      <td>19.8714</td>\n",
       "      <td>19.4343</td>\n",
       "      <td>19.9929</td>\n",
       "      <td>20.0357</td>\n",
       "      <td>20.3886</td>\n",
       "      <td>20.5500</td>\n",
       "      <td>19.9929</td>\n",
       "    </tr>\n",
       "    <tr>\n",
       "      <td>2508</td>\n",
       "      <td>2009/06/15</td>\n",
       "      <td>19.4414</td>\n",
       "      <td>134866380.0</td>\n",
       "      <td>19.4300</td>\n",
       "      <td>19.5614</td>\n",
       "      <td>19.2700</td>\n",
       "      <td>19.5671</td>\n",
       "      <td>19.9929</td>\n",
       "      <td>20.0357</td>\n",
       "      <td>20.3886</td>\n",
       "      <td>19.5671</td>\n",
       "    </tr>\n",
       "  </tbody>\n",
       "</table>\n",
       "</div>"
      ],
      "text/plain": [
       "            date    close       volume     open     high      low  \\\n",
       "2512  2009/06/09  20.3886  168830811.0  20.5443  20.6514  20.0786   \n",
       "2511  2009/06/10  20.0357  171935452.0  20.3257  20.3357  19.7571   \n",
       "2510  2009/06/11  19.9929  131030729.0  19.9357  20.2229  19.7929   \n",
       "2509  2009/06/12  19.5671  140437822.0  19.8300  19.8714  19.4343   \n",
       "2508  2009/06/15  19.4414  134866380.0  19.4300  19.5614  19.2700   \n",
       "\n",
       "      min_1_close  min_2_close  min_3_close  min_4_close  day_prev_close  \n",
       "2512      20.5500      20.6671      20.5343      20.1357         20.5500  \n",
       "2511      20.3886      20.5500      20.6671      20.5343         20.3886  \n",
       "2510      20.0357      20.3886      20.5500      20.6671         20.0357  \n",
       "2509      19.9929      20.0357      20.3886      20.5500         19.9929  \n",
       "2508      19.5671      19.9929      20.0357      20.3886         19.5671  "
      ]
     },
     "execution_count": 3,
     "metadata": {},
     "output_type": "execute_result"
    }
   ],
   "source": [
    "df.head()"
   ]
  },
  {
   "cell_type": "code",
   "execution_count": 4,
   "metadata": {},
   "outputs": [],
   "source": [
    "def create_trend(day_1, day_2):\n",
    "    if day_1 - day_2 > 0:\n",
    "        return 1\n",
    "    else:\n",
    "        return -1\n",
    "    \n",
    "def three_day_trend(day1, day2, day3):\n",
    "    if day1 + day2 + day3 > 0:\n",
    "        return 1\n",
    "    else:\n",
    "        return -1"
   ]
  },
  {
   "cell_type": "code",
   "execution_count": 5,
   "metadata": {},
   "outputs": [],
   "source": [
    "df['min_1_trend'] = df.apply(lambda x: create_trend(x['min_1_close'], x['min_2_close']), axis=1)\n",
    "df['min_2_trend'] = df.apply(lambda x: create_trend(x['min_2_close'], x['min_3_close']), axis=1)\n",
    "df['min_3_trend'] = df.apply(lambda x: create_trend(x['min_3_close'], x['min_4_close']), axis=1)\n",
    "df['trend_3_day'] = df.apply(lambda x: three_day_trend(x['min_1_trend'],\n",
    "                                                      x['min_2_trend'],\n",
    "                                                      x['min_3_trend']), axis=1)"
   ]
  },
  {
   "cell_type": "code",
   "execution_count": 6,
   "metadata": {},
   "outputs": [],
   "source": [
    "df['date'] = pd.to_datetime(df['date'])"
   ]
  },
  {
   "cell_type": "code",
   "execution_count": 7,
   "metadata": {},
   "outputs": [
    {
     "name": "stdout",
     "output_type": "stream",
     "text": [
      "<class 'pandas.core.frame.DataFrame'>\n",
      "Int64Index: 2513 entries, 2512 to 0\n",
      "Data columns (total 15 columns):\n",
      "date              2513 non-null datetime64[ns]\n",
      "close             2513 non-null float64\n",
      "volume            2513 non-null float64\n",
      "open              2513 non-null float64\n",
      "high              2513 non-null float64\n",
      "low               2513 non-null float64\n",
      "min_1_close       2513 non-null float64\n",
      "min_2_close       2513 non-null float64\n",
      "min_3_close       2513 non-null float64\n",
      "min_4_close       2513 non-null float64\n",
      "day_prev_close    2513 non-null float64\n",
      "min_1_trend       2513 non-null int64\n",
      "min_2_trend       2513 non-null int64\n",
      "min_3_trend       2513 non-null int64\n",
      "trend_3_day       2513 non-null int64\n",
      "dtypes: datetime64[ns](1), float64(10), int64(4)\n",
      "memory usage: 314.1 KB\n"
     ]
    }
   ],
   "source": [
    "df.info()"
   ]
  },
  {
   "cell_type": "code",
   "execution_count": 8,
   "metadata": {},
   "outputs": [
    {
     "data": {
      "text/html": [
       "<div>\n",
       "<style scoped>\n",
       "    .dataframe tbody tr th:only-of-type {\n",
       "        vertical-align: middle;\n",
       "    }\n",
       "\n",
       "    .dataframe tbody tr th {\n",
       "        vertical-align: top;\n",
       "    }\n",
       "\n",
       "    .dataframe thead th {\n",
       "        text-align: right;\n",
       "    }\n",
       "</style>\n",
       "<table border=\"1\" class=\"dataframe\">\n",
       "  <thead>\n",
       "    <tr style=\"text-align: right;\">\n",
       "      <th></th>\n",
       "      <th>date</th>\n",
       "      <th>close</th>\n",
       "      <th>day_prev_close</th>\n",
       "    </tr>\n",
       "  </thead>\n",
       "  <tbody>\n",
       "    <tr>\n",
       "      <td>2512</td>\n",
       "      <td>2009-06-09</td>\n",
       "      <td>20.3886</td>\n",
       "      <td>20.5500</td>\n",
       "    </tr>\n",
       "    <tr>\n",
       "      <td>2511</td>\n",
       "      <td>2009-06-10</td>\n",
       "      <td>20.0357</td>\n",
       "      <td>20.3886</td>\n",
       "    </tr>\n",
       "    <tr>\n",
       "      <td>2510</td>\n",
       "      <td>2009-06-11</td>\n",
       "      <td>19.9929</td>\n",
       "      <td>20.0357</td>\n",
       "    </tr>\n",
       "    <tr>\n",
       "      <td>2509</td>\n",
       "      <td>2009-06-12</td>\n",
       "      <td>19.5671</td>\n",
       "      <td>19.9929</td>\n",
       "    </tr>\n",
       "    <tr>\n",
       "      <td>2508</td>\n",
       "      <td>2009-06-15</td>\n",
       "      <td>19.4414</td>\n",
       "      <td>19.5671</td>\n",
       "    </tr>\n",
       "    <tr>\n",
       "      <td>2507</td>\n",
       "      <td>2009-06-16</td>\n",
       "      <td>19.4786</td>\n",
       "      <td>19.4414</td>\n",
       "    </tr>\n",
       "    <tr>\n",
       "      <td>2506</td>\n",
       "      <td>2009-06-17</td>\n",
       "      <td>19.3686</td>\n",
       "      <td>19.4786</td>\n",
       "    </tr>\n",
       "    <tr>\n",
       "      <td>2505</td>\n",
       "      <td>2009-06-18</td>\n",
       "      <td>19.4114</td>\n",
       "      <td>19.3686</td>\n",
       "    </tr>\n",
       "    <tr>\n",
       "      <td>2504</td>\n",
       "      <td>2009-06-19</td>\n",
       "      <td>19.9257</td>\n",
       "      <td>19.4114</td>\n",
       "    </tr>\n",
       "    <tr>\n",
       "      <td>2503</td>\n",
       "      <td>2009-06-22</td>\n",
       "      <td>19.6243</td>\n",
       "      <td>19.9257</td>\n",
       "    </tr>\n",
       "    <tr>\n",
       "      <td>2502</td>\n",
       "      <td>2009-06-23</td>\n",
       "      <td>19.1443</td>\n",
       "      <td>19.6243</td>\n",
       "    </tr>\n",
       "    <tr>\n",
       "      <td>2501</td>\n",
       "      <td>2009-06-24</td>\n",
       "      <td>19.4600</td>\n",
       "      <td>19.1443</td>\n",
       "    </tr>\n",
       "    <tr>\n",
       "      <td>2500</td>\n",
       "      <td>2009-06-25</td>\n",
       "      <td>19.9800</td>\n",
       "      <td>19.4600</td>\n",
       "    </tr>\n",
       "    <tr>\n",
       "      <td>2499</td>\n",
       "      <td>2009-06-26</td>\n",
       "      <td>20.3486</td>\n",
       "      <td>19.9800</td>\n",
       "    </tr>\n",
       "    <tr>\n",
       "      <td>2498</td>\n",
       "      <td>2009-06-29</td>\n",
       "      <td>20.2814</td>\n",
       "      <td>20.3486</td>\n",
       "    </tr>\n",
       "  </tbody>\n",
       "</table>\n",
       "</div>"
      ],
      "text/plain": [
       "           date    close  day_prev_close\n",
       "2512 2009-06-09  20.3886         20.5500\n",
       "2511 2009-06-10  20.0357         20.3886\n",
       "2510 2009-06-11  19.9929         20.0357\n",
       "2509 2009-06-12  19.5671         19.9929\n",
       "2508 2009-06-15  19.4414         19.5671\n",
       "2507 2009-06-16  19.4786         19.4414\n",
       "2506 2009-06-17  19.3686         19.4786\n",
       "2505 2009-06-18  19.4114         19.3686\n",
       "2504 2009-06-19  19.9257         19.4114\n",
       "2503 2009-06-22  19.6243         19.9257\n",
       "2502 2009-06-23  19.1443         19.6243\n",
       "2501 2009-06-24  19.4600         19.1443\n",
       "2500 2009-06-25  19.9800         19.4600\n",
       "2499 2009-06-26  20.3486         19.9800\n",
       "2498 2009-06-29  20.2814         20.3486"
      ]
     },
     "execution_count": 8,
     "metadata": {},
     "output_type": "execute_result"
    }
   ],
   "source": [
    "# df = df.sort_values(by=['date'], ascending=True)\n",
    "df[['date', 'close', 'day_prev_close']].head(15)"
   ]
  },
  {
   "cell_type": "code",
   "execution_count": 9,
   "metadata": {},
   "outputs": [],
   "source": [
    "%matplotlib inline\n",
    "\n",
    "import pandas as pd\n",
    "import matplotlib.pyplot as plt\n",
    "import numpy as np\n",
    "from sklearn import linear_model\n",
    "from sklearn.metrics import mean_squared_error\n",
    "from sklearn.metrics import r2_score\n",
    "from sklearn.metrics import explained_variance_score\n",
    "\n",
    "plt.rc('figure', figsize=(12, 8.0))"
   ]
  },
  {
   "cell_type": "markdown",
   "metadata": {},
   "source": [
    "## Pull Data from BigQuery\n",
    "\n",
    "In this section we'll use a magic function to query a BigQuery table and then store the output in a Pandas dataframe. A magic function is just an alias to perform a system command. To see documentation on the \"bigquery\" magic function execute the following cell:"
   ]
  },
  {
   "cell_type": "code",
   "execution_count": null,
   "metadata": {},
   "outputs": [],
   "source": [
    "%%bigquery?"
   ]
  },
  {
   "cell_type": "markdown",
   "metadata": {},
   "source": [
    "The query below selects everything you'll need to build a regression model to predict the closing price of AAPL stock. The model will be very simple for the purposes of demonstrating BQML functionality. The only features you'll use as input into the model are the previous day's closing price and a three day trend value. The trend value can only take on two values, either -1 or +1. If the AAPL stock price has increased over any two of the previous three days then the trend will be +1. Otherwise, the trend value will be -1.\n",
    "\n",
    "Note, the features you'll need can be generated from the raw table `ai4f.AAPL10Y` using Pandas functions. However, it's better to take advantage of the serverless-ness of BigQuery to do the data pre-processing rather than applying the necessary transformations locally.  "
   ]
  },
  {
   "cell_type": "code",
   "execution_count": null,
   "metadata": {},
   "outputs": [],
   "source": [
    "%%bigquery df\n",
    "WITH\n",
    "  raw AS (\n",
    "  SELECT\n",
    "    date,\n",
    "    close,\n",
    "    LAG(close, 1) OVER(ORDER BY date) AS min_1_close,\n",
    "    LAG(close, 2) OVER(ORDER BY date) AS min_2_close,\n",
    "    LAG(close, 3) OVER(ORDER BY date) AS min_3_close,\n",
    "    LAG(close, 4) OVER(ORDER BY date) AS min_4_close\n",
    "  FROM\n",
    "    `ai4f.AAPL10Y`\n",
    "  ORDER BY\n",
    "    date DESC ),\n",
    "  raw_plus_trend AS (\n",
    "  SELECT\n",
    "    date,\n",
    "    close,\n",
    "    min_1_close,\n",
    "    IF (min_1_close - min_2_close > 0, 1, -1) AS min_1_trend,\n",
    "    IF (min_2_close - min_3_close > 0, 1, -1) AS min_2_trend,\n",
    "    IF (min_3_close - min_4_close > 0, 1, -1) AS min_3_trend\n",
    "  FROM\n",
    "    raw ),\n",
    "  train_data AS (\n",
    "  SELECT\n",
    "    date,\n",
    "    close,\n",
    "    min_1_close AS day_prev_close,\n",
    "    IF (min_1_trend + min_2_trend + min_3_trend > 0, 1, -1) AS trend_3_day\n",
    "  FROM\n",
    "    raw_plus_trend\n",
    "  ORDER BY\n",
    "    date ASC )\n",
    "SELECT\n",
    "  *\n",
    "FROM\n",
    "  train_data"
   ]
  },
  {
   "cell_type": "markdown",
   "metadata": {},
   "source": [
    "View the first five rows of the query's output. Note that the object `df` containing the query output is a Pandas Dataframe."
   ]
  },
  {
   "cell_type": "code",
   "execution_count": 10,
   "metadata": {},
   "outputs": [
    {
     "name": "stdout",
     "output_type": "stream",
     "text": [
      "<class 'pandas.core.frame.DataFrame'>\n"
     ]
    },
    {
     "data": {
      "text/html": [
       "<div>\n",
       "<style scoped>\n",
       "    .dataframe tbody tr th:only-of-type {\n",
       "        vertical-align: middle;\n",
       "    }\n",
       "\n",
       "    .dataframe tbody tr th {\n",
       "        vertical-align: top;\n",
       "    }\n",
       "\n",
       "    .dataframe thead th {\n",
       "        text-align: right;\n",
       "    }\n",
       "</style>\n",
       "<table border=\"1\" class=\"dataframe\">\n",
       "  <thead>\n",
       "    <tr style=\"text-align: right;\">\n",
       "      <th></th>\n",
       "      <th>date</th>\n",
       "      <th>close</th>\n",
       "      <th>volume</th>\n",
       "      <th>open</th>\n",
       "      <th>high</th>\n",
       "      <th>low</th>\n",
       "      <th>min_1_close</th>\n",
       "      <th>min_2_close</th>\n",
       "      <th>min_3_close</th>\n",
       "      <th>min_4_close</th>\n",
       "      <th>day_prev_close</th>\n",
       "      <th>min_1_trend</th>\n",
       "      <th>min_2_trend</th>\n",
       "      <th>min_3_trend</th>\n",
       "      <th>trend_3_day</th>\n",
       "    </tr>\n",
       "  </thead>\n",
       "  <tbody>\n",
       "    <tr>\n",
       "      <td>2512</td>\n",
       "      <td>2009-06-09</td>\n",
       "      <td>20.3886</td>\n",
       "      <td>168830811.0</td>\n",
       "      <td>20.5443</td>\n",
       "      <td>20.6514</td>\n",
       "      <td>20.0786</td>\n",
       "      <td>20.5500</td>\n",
       "      <td>20.6671</td>\n",
       "      <td>20.5343</td>\n",
       "      <td>20.1357</td>\n",
       "      <td>20.5500</td>\n",
       "      <td>-1</td>\n",
       "      <td>1</td>\n",
       "      <td>1</td>\n",
       "      <td>1</td>\n",
       "    </tr>\n",
       "    <tr>\n",
       "      <td>2511</td>\n",
       "      <td>2009-06-10</td>\n",
       "      <td>20.0357</td>\n",
       "      <td>171935452.0</td>\n",
       "      <td>20.3257</td>\n",
       "      <td>20.3357</td>\n",
       "      <td>19.7571</td>\n",
       "      <td>20.3886</td>\n",
       "      <td>20.5500</td>\n",
       "      <td>20.6671</td>\n",
       "      <td>20.5343</td>\n",
       "      <td>20.3886</td>\n",
       "      <td>-1</td>\n",
       "      <td>-1</td>\n",
       "      <td>1</td>\n",
       "      <td>-1</td>\n",
       "    </tr>\n",
       "    <tr>\n",
       "      <td>2510</td>\n",
       "      <td>2009-06-11</td>\n",
       "      <td>19.9929</td>\n",
       "      <td>131030729.0</td>\n",
       "      <td>19.9357</td>\n",
       "      <td>20.2229</td>\n",
       "      <td>19.7929</td>\n",
       "      <td>20.0357</td>\n",
       "      <td>20.3886</td>\n",
       "      <td>20.5500</td>\n",
       "      <td>20.6671</td>\n",
       "      <td>20.0357</td>\n",
       "      <td>-1</td>\n",
       "      <td>-1</td>\n",
       "      <td>-1</td>\n",
       "      <td>-1</td>\n",
       "    </tr>\n",
       "    <tr>\n",
       "      <td>2509</td>\n",
       "      <td>2009-06-12</td>\n",
       "      <td>19.5671</td>\n",
       "      <td>140437822.0</td>\n",
       "      <td>19.8300</td>\n",
       "      <td>19.8714</td>\n",
       "      <td>19.4343</td>\n",
       "      <td>19.9929</td>\n",
       "      <td>20.0357</td>\n",
       "      <td>20.3886</td>\n",
       "      <td>20.5500</td>\n",
       "      <td>19.9929</td>\n",
       "      <td>-1</td>\n",
       "      <td>-1</td>\n",
       "      <td>-1</td>\n",
       "      <td>-1</td>\n",
       "    </tr>\n",
       "    <tr>\n",
       "      <td>2508</td>\n",
       "      <td>2009-06-15</td>\n",
       "      <td>19.4414</td>\n",
       "      <td>134866380.0</td>\n",
       "      <td>19.4300</td>\n",
       "      <td>19.5614</td>\n",
       "      <td>19.2700</td>\n",
       "      <td>19.5671</td>\n",
       "      <td>19.9929</td>\n",
       "      <td>20.0357</td>\n",
       "      <td>20.3886</td>\n",
       "      <td>19.5671</td>\n",
       "      <td>-1</td>\n",
       "      <td>-1</td>\n",
       "      <td>-1</td>\n",
       "      <td>-1</td>\n",
       "    </tr>\n",
       "  </tbody>\n",
       "</table>\n",
       "</div>"
      ],
      "text/plain": [
       "           date    close       volume     open     high      low  min_1_close  \\\n",
       "2512 2009-06-09  20.3886  168830811.0  20.5443  20.6514  20.0786      20.5500   \n",
       "2511 2009-06-10  20.0357  171935452.0  20.3257  20.3357  19.7571      20.3886   \n",
       "2510 2009-06-11  19.9929  131030729.0  19.9357  20.2229  19.7929      20.0357   \n",
       "2509 2009-06-12  19.5671  140437822.0  19.8300  19.8714  19.4343      19.9929   \n",
       "2508 2009-06-15  19.4414  134866380.0  19.4300  19.5614  19.2700      19.5671   \n",
       "\n",
       "      min_2_close  min_3_close  min_4_close  day_prev_close  min_1_trend  \\\n",
       "2512      20.6671      20.5343      20.1357         20.5500           -1   \n",
       "2511      20.5500      20.6671      20.5343         20.3886           -1   \n",
       "2510      20.3886      20.5500      20.6671         20.0357           -1   \n",
       "2509      20.0357      20.3886      20.5500         19.9929           -1   \n",
       "2508      19.9929      20.0357      20.3886         19.5671           -1   \n",
       "\n",
       "      min_2_trend  min_3_trend  trend_3_day  \n",
       "2512            1            1            1  \n",
       "2511           -1            1           -1  \n",
       "2510           -1           -1           -1  \n",
       "2509           -1           -1           -1  \n",
       "2508           -1           -1           -1  "
      ]
     },
     "execution_count": 10,
     "metadata": {},
     "output_type": "execute_result"
    }
   ],
   "source": [
    "print(type(df))\n",
    "df.dropna(inplace=True)\n",
    "df.head()"
   ]
  },
  {
   "cell_type": "markdown",
   "metadata": {},
   "source": [
    "## Visualize data"
   ]
  },
  {
   "cell_type": "markdown",
   "metadata": {},
   "source": [
    "The simplest plot you can make is to show the closing stock price as a time series. Pandas DataFrames have built in plotting funtionality based on Matplotlib. "
   ]
  },
  {
   "cell_type": "code",
   "execution_count": 11,
   "metadata": {},
   "outputs": [
    {
     "data": {
      "image/png": "[encoded data removed]",
      "text/plain": [
       "<Figure size 432x288 with 1 Axes>"
      ]
     },
     "metadata": {
      "needs_background": "light"
     },
     "output_type": "display_data"
    }
   ],
   "source": [
    "df.plot(x='date', y='close');"
   ]
  },
  {
   "cell_type": "markdown",
   "metadata": {},
   "source": [
    "You can also embed the `trend_3_day` variable into the time series above. "
   ]
  },
  {
   "cell_type": "code",
   "execution_count": 12,
   "metadata": {},
   "outputs": [
    {
     "data": {
      "image/png": "[encoded data removed]",
      "text/plain": [
       "<Figure size 432x288 with 1 Axes>"
      ]
     },
     "metadata": {
      "needs_background": "light"
     },
     "output_type": "display_data"
    }
   ],
   "source": [
    "start_date = '2018-06-01'\n",
    "end_date = '2018-07-31'\n",
    "\n",
    "plt.plot(\n",
    "    'date', 'close', 'k--',\n",
    "    data = (\n",
    "        df.loc[pd.to_datetime(df.date).between(start_date, end_date)]\n",
    "    )\n",
    ")\n",
    "\n",
    "plt.scatter(\n",
    "    'date', 'close', color='b', label='pos trend', \n",
    "    data = (\n",
    "        df.loc[df.trend_3_day == 1 & pd.to_datetime(df.date).between(start_date, end_date)]\n",
    "    )\n",
    ")\n",
    "\n",
    "plt.scatter(\n",
    "    'date', 'close', color='r', label='neg trend',\n",
    "    data = (\n",
    "        df.loc[(df.trend_3_day == -1) & pd.to_datetime(df.date).between(start_date, end_date)]\n",
    "    )\n",
    ")\n",
    "\n",
    "plt.legend()\n",
    "plt.xticks(rotation = 90);"
   ]
  },
  {
   "cell_type": "code",
   "execution_count": 13,
   "metadata": {},
   "outputs": [
    {
     "data": {
      "text/plain": [
       "(2513, 15)"
      ]
     },
     "execution_count": 13,
     "metadata": {},
     "output_type": "execute_result"
    }
   ],
   "source": [
    "df.shape"
   ]
  },
  {
   "cell_type": "markdown",
   "metadata": {},
   "source": [
    "## Build a Regression Model in Scikit-Learn"
   ]
  },
  {
   "cell_type": "markdown",
   "metadata": {},
   "source": [
    "In this section you'll train a linear regression model to predict AAPL closing prices when given the previous day's closing price `day_prev_close` and the three day trend `trend_3_day`. A training set and test set are created by sequentially splitting the data after 2000 rows.  \n",
    "\n",
    "source: [https://scikit-learn.org](https://scikit-learn.org/stable/auto_examples/linear_model/plot_ols.html#sphx-glr-auto-examples-linear-model-plot-ols-py)"
   ]
  },
  {
   "cell_type": "code",
   "execution_count": 14,
   "metadata": {},
   "outputs": [],
   "source": [
    "features = ['day_prev_close', 'trend_3_day']\n",
    "target = 'close'\n",
    "\n",
    "X_train, X_test = df.loc[:2000, features], df.loc[2000:, features]\n",
    "y_train, y_test = df.loc[:2000, target], df.loc[2000:, target]"
   ]
  },
  {
   "cell_type": "code",
   "execution_count": 15,
   "metadata": {},
   "outputs": [],
   "source": [
    "# Create linear regression object. Don't include an intercept,\n",
    "regr = linear_model.LinearRegression()"
   ]
  },
  {
   "cell_type": "code",
   "execution_count": 16,
   "metadata": {},
   "outputs": [
    {
     "data": {
      "text/plain": [
       "LinearRegression(copy_X=True, fit_intercept=True, n_jobs=None, normalize=False)"
      ]
     },
     "execution_count": 16,
     "metadata": {},
     "output_type": "execute_result"
    }
   ],
   "source": [
    "# Train the model using the training set\n",
    "regr.fit(X_train, y_train)"
   ]
  },
  {
   "cell_type": "code",
   "execution_count": 17,
   "metadata": {},
   "outputs": [],
   "source": [
    "# Make predictions using the testing set\n",
    "y_pred = regr.predict(X_test)"
   ]
  },
  {
   "cell_type": "code",
   "execution_count": 18,
   "metadata": {},
   "outputs": [
    {
     "name": "stdout",
     "output_type": "stream",
     "text": [
      "Intercept:               0.181146\n",
      "Coefficients:\n",
      "                          0.996258\n",
      "                          0.019422\n",
      "Mean squared error:           3.98\n",
      "Root mean squared error:      2.00\n",
      "Coefficient of determination: 1.00\n"
     ]
    }
   ],
   "source": [
    "# Print the coefficiants\n",
    "print('Intercept:               {0:.6f}'.format(regr.intercept_))\n",
    "print('Coefficients:')\n",
    "for i in regr.coef_:\n",
    "    print('                          {0:.6f}'.format(i))\n",
    "\n",
    "# The mean squared error\n",
    "print('Mean squared error:           {:.2f}'.format(mean_squared_error(y_test, y_pred)))\n",
    "\n",
    "rmse = np.sqrt(mean_squared_error(y_test, y_pred))\n",
    "\n",
    "# The root mean squared error\n",
    "print('Root mean squared error:      {:.2f}'.format(rmse))\n",
    "\n",
    "# The coefficient of determination: 1 is perfect prediction\n",
    "print('Coefficient of determination: {:.2f}'.format(r2_score(y_test, y_pred)))"
   ]
  },
  {
   "cell_type": "code",
   "execution_count": 19,
   "metadata": {},
   "outputs": [
    {
     "data": {
      "text/plain": [
       "0.9980242884309032"
      ]
     },
     "execution_count": 19,
     "metadata": {},
     "output_type": "execute_result"
    }
   ],
   "source": [
    "# Print the variance score (1 is perfect prediction)\n",
    "explained_variance_score(y_test, y_pred, sample_weight=None, multioutput='uniform_average')"
   ]
  },
  {
   "cell_type": "code",
   "execution_count": 20,
   "metadata": {},
   "outputs": [
    {
     "data": {
      "image/png": "[encoded data removed]",
      "text/plain": [
       "<Figure size 360x360 with 1 Axes>"
      ]
     },
     "metadata": {
      "needs_background": "light"
     },
     "output_type": "display_data"
    }
   ],
   "source": [
    "# Plot the predicted values against their corresponding true values\n",
    "fig = plt.subplots(figsize=(5, 5))\n",
    "plt.scatter(y_test, y_pred, color='blue', linewidth=1, alpha=.03)\n",
    "plt.grid(True)\n",
    "plt.show()"
   ]
  },
  {
   "cell_type": "markdown",
   "metadata": {},
   "source": [
    "The model's predictions are more or less in line with the truth. However, the utility of the model depends on the business context (i.e. you won't be making any money with this model). It's fair to question whether the variable `trend_3_day` even adds to the performance of the model:"
   ]
  },
  {
   "cell_type": "code",
   "execution_count": 21,
   "metadata": {},
   "outputs": [
    {
     "name": "stdout",
     "output_type": "stream",
     "text": [
      "Root Mean Squared Error: 1.97\n"
     ]
    }
   ],
   "source": [
    "print('Root Mean Squared Error: {0:.2f}'.format(np.sqrt(mean_squared_error(y_test, X_test.day_prev_close))))"
   ]
  },
  {
   "cell_type": "markdown",
   "metadata": {},
   "source": [
    "Indeed, the RMSE is actually lower if we simply use the previous day's closing value as a prediction! Does increasing the number of days included in the trend improve the model? Feel free to create new features and attempt to improve model performance!"
   ]
  }
 ],
 "metadata": {
  "kernelspec": {
   "display_name": "Python 3",
   "language": "python",
   "name": "python3"
  },
  "language_info": {
   "codemirror_mode": {
    "name": "ipython",
    "version": 3
   },
   "file_extension": ".py",
   "mimetype": "text/x-python",
   "name": "python",
   "nbconvert_exporter": "python",
   "pygments_lexer": "ipython3",
   "version": "3.7.4"
  }
 },
 "nbformat": 4,
 "nbformat_minor": 4
}
